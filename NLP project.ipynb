{
 "cells": [
  {
   "cell_type": "code",
   "execution_count": null,
   "id": "6a78cdcb-9345-4893-a9cd-6767102b51ab",
   "metadata": {},
   "outputs": [],
   "source": [
    "import pandas as pd\n",
    "import zipfile\n",
    "import os\n",
    "\n",
    "# ZIP 파일 경로\n",
    "zip_file_path = \"path/to/your/zipfile.zip\"\n",
    "\n",
    "# ZIP 파일 열기\n",
    "with zipfile.ZipFile(zip_file_path, 'r') as zip_file:\n",
    "    # ZIP 파일 내부 파일 목록 가져오기\n",
    "    file_list = zip_file.namelist()\n",
    "    \n",
    "    # JSON 파일만 선택\n",
    "    json_files = [file for file in file_list if file.endswith('.json')]\n",
    "    \n",
    "    # JSON 데이터를 저장할 리스트\n",
    "    data_frames = []\n",
    "    \n",
    "    # JSON 파일 읽기\n",
    "    for json_file in json_files:\n",
    "        with zip_file.open(json_file) as file:\n",
    "            # JSON 데이터를 DataFrame으로 변환\n",
    "            df = pd.read_json(file, orient='records')  # 'orient'는 JSON 구조에 따라 조정\n",
    "            data_frames.append(df)\n",
    "\n",
    "# 데이터프레임 리스트를 병합 (옵션)\n",
    "final_df = pd.concat(data_frames, ignore_index=True)\n",
    "\n",
    "# 출력 확인\n",
    "print(final_df.head())"
   ]
  },
  {
   "cell_type": "code",
   "execution_count": 1,
   "id": "04a0633d-06d5-43a0-b15e-0afa60132d74",
   "metadata": {},
   "outputs": [
    {
     "ename": "SyntaxError",
     "evalue": "invalid syntax (2453963257.py, line 1)",
     "output_type": "error",
     "traceback": [
      "\u001b[1;36m  Cell \u001b[1;32mIn[1], line 1\u001b[1;36m\u001b[0m\n\u001b[1;33m    git config --global -l\u001b[0m\n\u001b[1;37m        ^\u001b[0m\n\u001b[1;31mSyntaxError\u001b[0m\u001b[1;31m:\u001b[0m invalid syntax\n"
     ]
    }
   ],
   "source": [
    "git config --global -l"
   ]
  },
  {
   "cell_type": "code",
   "execution_count": null,
   "id": "6fe49681-c536-486b-9218-14e916d035dd",
   "metadata": {},
   "outputs": [],
   "source": []
  }
 ],
 "metadata": {
  "kernelspec": {
   "display_name": "Python 3 (ipykernel)",
   "language": "python",
   "name": "python3"
  },
  "language_info": {
   "codemirror_mode": {
    "name": "ipython",
    "version": 3
   },
   "file_extension": ".py",
   "mimetype": "text/x-python",
   "name": "python",
   "nbconvert_exporter": "python",
   "pygments_lexer": "ipython3",
   "version": "3.11.7"
  }
 },
 "nbformat": 4,
 "nbformat_minor": 5
}
